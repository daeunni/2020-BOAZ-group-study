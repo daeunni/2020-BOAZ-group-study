{
  "nbformat": 4,
  "nbformat_minor": 0,
  "metadata": {
    "colab": {
      "name": "5주차 멘토멘티(deep기본 + Conv).ipynb",
      "provenance": [],
      "machine_shape": "hm"
    },
    "kernelspec": {
      "name": "python3",
      "display_name": "Python 3"
    },
    "accelerator": "GPU"
  },
  "cells": [
    {
      "cell_type": "markdown",
      "metadata": {
        "id": "PuARLzP_UStP",
        "colab_type": "text"
      },
      "source": [
        "# **[ 멘토멘티 5주차 스터디 ]** "
      ]
    },
    {
      "cell_type": "markdown",
      "metadata": {
        "id": "wXWTJpXbTfCl",
        "colab_type": "text"
      },
      "source": [
        "# 0. Data"
      ]
    },
    {
      "cell_type": "code",
      "metadata": {
        "id": "yEnnUoyoRKLJ",
        "colab_type": "code",
        "colab": {}
      },
      "source": [
        "import numpy as np\n",
        "from keras.utils import to_categorical\n",
        "from keras.datasets import cifar10"
      ],
      "execution_count": null,
      "outputs": []
    },
    {
      "cell_type": "code",
      "metadata": {
        "id": "FkcJ-K3KRMFw",
        "colab_type": "code",
        "colab": {
          "base_uri": "https://localhost:8080/",
          "height": 52
        },
        "outputId": "ca558010-048e-478d-a703-8b55c69e77be"
      },
      "source": [
        "(x_train, y_train), (x_test, y_test) = cifar10.load_data() \n",
        "# 32*32 픽셀 크기의 컬러 이미지 60000개로 구성된 data\n",
        "# 이미지는 10개의 라벨로 분류되어 있음. "
      ],
      "execution_count": null,
      "outputs": [
        {
          "output_type": "stream",
          "text": [
            "Downloading data from https://www.cs.toronto.edu/~kriz/cifar-10-python.tar.gz\n",
            "170500096/170498071 [==============================] - 4s 0us/step\n"
          ],
          "name": "stdout"
        }
      ]
    },
    {
      "cell_type": "code",
      "metadata": {
        "id": "iUmi4bNuRMDe",
        "colab_type": "code",
        "colab": {}
      },
      "source": [
        "n = 10\n",
        "\n",
        "x_train = x_train.astype('float32') / 255.0 # input을 -1~1 사이 범위로 조정하기 위함\n",
        "x_test = x_test.astype('float32') / 255.0\n",
        "\n",
        "y_train = to_categorical(y_train, n) # 10개 라벨을 원핫으로 펼침\n",
        "y_test = to_categorical(y_test, n)"
      ],
      "execution_count": null,
      "outputs": []
    },
    {
      "cell_type": "code",
      "metadata": {
        "id": "NdjtY1NVRMA_",
        "colab_type": "code",
        "colab": {
          "base_uri": "https://localhost:8080/",
          "height": 586
        },
        "outputId": "ea3d2a36-f31d-448d-d336-f9d18430cf46"
      },
      "source": [
        "x_train[0][0]"
      ],
      "execution_count": null,
      "outputs": [
        {
          "output_type": "execute_result",
          "data": {
            "text/plain": [
              "array([[0.23137255, 0.24313726, 0.24705882],\n",
              "       [0.16862746, 0.18039216, 0.1764706 ],\n",
              "       [0.19607843, 0.1882353 , 0.16862746],\n",
              "       [0.26666668, 0.21176471, 0.16470589],\n",
              "       [0.38431373, 0.28627452, 0.20392157],\n",
              "       [0.46666667, 0.35686275, 0.24705882],\n",
              "       [0.54509807, 0.41960785, 0.29411766],\n",
              "       [0.5686275 , 0.43137255, 0.3137255 ],\n",
              "       [0.58431375, 0.45882353, 0.34901962],\n",
              "       [0.58431375, 0.47058824, 0.3647059 ],\n",
              "       [0.5137255 , 0.40392157, 0.3019608 ],\n",
              "       [0.49019608, 0.3882353 , 0.29803923],\n",
              "       [0.5568628 , 0.4509804 , 0.35686275],\n",
              "       [0.5647059 , 0.4392157 , 0.3372549 ],\n",
              "       [0.5372549 , 0.4117647 , 0.30980393],\n",
              "       [0.5058824 , 0.38039216, 0.2784314 ],\n",
              "       [0.5372549 , 0.41568628, 0.30980393],\n",
              "       [0.5254902 , 0.41568628, 0.29803923],\n",
              "       [0.4862745 , 0.38039216, 0.2509804 ],\n",
              "       [0.54509807, 0.44313726, 0.30588236],\n",
              "       [0.54509807, 0.4392157 , 0.29411766],\n",
              "       [0.52156866, 0.4117647 , 0.27058825],\n",
              "       [0.53333336, 0.4117647 , 0.2901961 ],\n",
              "       [0.54509807, 0.42352942, 0.3019608 ],\n",
              "       [0.59607846, 0.47058824, 0.34901962],\n",
              "       [0.6392157 , 0.5137255 , 0.39215687],\n",
              "       [0.65882355, 0.53333336, 0.42352942],\n",
              "       [0.62352943, 0.5058824 , 0.4       ],\n",
              "       [0.61960787, 0.50980395, 0.40784314],\n",
              "       [0.61960787, 0.5176471 , 0.42352942],\n",
              "       [0.59607846, 0.49019608, 0.4       ],\n",
              "       [0.5803922 , 0.4862745 , 0.40392157]], dtype=float32)"
            ]
          },
          "metadata": {
            "tags": []
          },
          "execution_count": 4
        }
      ]
    },
    {
      "cell_type": "code",
      "metadata": {
        "id": "dP1-uIDzS6fe",
        "colab_type": "code",
        "colab": {
          "base_uri": "https://localhost:8080/",
          "height": 35
        },
        "outputId": "4e67d4f6-9145-4588-e3bc-b61b5a79a6ef"
      },
      "source": [
        "print(x_train.shape, x_test.shape, y_train.shape, y_test.shape)"
      ],
      "execution_count": null,
      "outputs": [
        {
          "output_type": "stream",
          "text": [
            "(50000, 32, 32, 3) (10000, 32, 32, 3) (50000, 10) (10000, 10)\n"
          ],
          "name": "stdout"
        }
      ]
    },
    {
      "cell_type": "markdown",
      "metadata": {
        "id": "4zIugUO2S3EQ",
        "colab_type": "text"
      },
      "source": [
        "x_train, x_test 는 각각 **4차원 텐서**임. \n",
        "- 첫번째 : 이미지의 인덱스(6만개중에 5만개가 train)\n",
        "- 두번째, 세번쨰 : 이미지의 높이와 너비(32*32 픽셀크기)\n",
        "- 마지막 : 컬러 채널(RGB이므로 3)"
      ]
    },
    {
      "cell_type": "code",
      "metadata": {
        "id": "OLrtoohvTuw2",
        "colab_type": "code",
        "colab": {
          "base_uri": "https://localhost:8080/",
          "height": 35
        },
        "outputId": "3ca6f8ee-d3d5-42a2-aa6a-51e22c1fb60a"
      },
      "source": [
        "# ex\n",
        "x_train[20, 12, 13]   # 20번째 이미지의 (12, 13) 위치에 있는 RGB 채널 값"
      ],
      "execution_count": null,
      "outputs": [
        {
          "output_type": "execute_result",
          "data": {
            "text/plain": [
              "array([0.40392157, 0.39607844, 0.38431373], dtype=float32)"
            ]
          },
          "metadata": {
            "tags": []
          },
          "execution_count": 6
        }
      ]
    },
    {
      "cell_type": "markdown",
      "metadata": {
        "id": "Rim0MHSmTbcO",
        "colab_type": "text"
      },
      "source": [
        "# 1. 정말 간단한 신경망"
      ]
    },
    {
      "cell_type": "code",
      "metadata": {
        "id": "iIUZnYR2RL_W",
        "colab_type": "code",
        "colab": {
          "base_uri": "https://localhost:8080/",
          "height": 337
        },
        "outputId": "9c176377-e3cf-4e00-e322-25cdedd98f8a"
      },
      "source": [
        "from keras.layers import Input, Flatten, Dense # 3종류의 layer\n",
        "from keras.models import Model\n",
        "\n",
        "input_layer = Input( shape = (32, 32, 3)) # 배치 크기는 지정하지 않음. \n",
        "\n",
        "x = Flatten()(input_layer) # dense를 위해 펼친다 > 벡터의 길이 = 32*32*3 = 3072일 것임. \n",
        "\n",
        "x = Dense(units = 200, activation = 'relu')(x)\n",
        "x = Dense(units = 150, activation = 'relu')(x)\n",
        "\n",
        "output_layer = Dense(units = 10, activation = 'softmax')(x) # sortmax \n",
        "\n",
        "model = Model(input_layer, output_layer) # model = input, output으로 정의됨. \n",
        "model.summary()"
      ],
      "execution_count": null,
      "outputs": [
        {
          "output_type": "stream",
          "text": [
            "Model: \"functional_1\"\n",
            "_________________________________________________________________\n",
            "Layer (type)                 Output Shape              Param #   \n",
            "=================================================================\n",
            "input_1 (InputLayer)         [(None, 32, 32, 3)]       0         \n",
            "_________________________________________________________________\n",
            "flatten (Flatten)            (None, 3072)              0         \n",
            "_________________________________________________________________\n",
            "dense (Dense)                (None, 200)               614600    \n",
            "_________________________________________________________________\n",
            "dense_1 (Dense)              (None, 150)               30150     \n",
            "_________________________________________________________________\n",
            "dense_2 (Dense)              (None, 10)                1510      \n",
            "=================================================================\n",
            "Total params: 646,260\n",
            "Trainable params: 646,260\n",
            "Non-trainable params: 0\n",
            "_________________________________________________________________\n"
          ],
          "name": "stdout"
        }
      ]
    },
    {
      "cell_type": "code",
      "metadata": {
        "id": "INk9g9T_RL6p",
        "colab_type": "code",
        "colab": {}
      },
      "source": [
        "# model compile\n",
        "from keras.optimizers import Adam\n",
        "opt = Adam(lr = 0.0005)\n",
        "model.compile(loss = 'categorical_crossentropy', optimizer = opt)\n",
        "metrics = ['accuracy']"
      ],
      "execution_count": null,
      "outputs": []
    },
    {
      "cell_type": "code",
      "metadata": {
        "id": "NYCe3eM-RL5C",
        "colab_type": "code",
        "colab": {
          "base_uri": "https://localhost:8080/",
          "height": 390
        },
        "outputId": "d414b747-81ef-4403-dd80-cf116b3eab81"
      },
      "source": [
        "# fit\n",
        "model.fit(x_train, y_train, batch_size = 32, epochs = 10, shuffle = True)"
      ],
      "execution_count": null,
      "outputs": [
        {
          "output_type": "stream",
          "text": [
            "Epoch 1/10\n",
            "1563/1563 [==============================] - 4s 2ms/step - loss: 1.8486\n",
            "Epoch 2/10\n",
            "1563/1563 [==============================] - 4s 2ms/step - loss: 1.6637\n",
            "Epoch 3/10\n",
            "1563/1563 [==============================] - 4s 2ms/step - loss: 1.5842\n",
            "Epoch 4/10\n",
            "1563/1563 [==============================] - 4s 2ms/step - loss: 1.5297\n",
            "Epoch 5/10\n",
            "1563/1563 [==============================] - 4s 2ms/step - loss: 1.4918\n",
            "Epoch 6/10\n",
            "1563/1563 [==============================] - 4s 2ms/step - loss: 1.4624\n",
            "Epoch 7/10\n",
            "1563/1563 [==============================] - 4s 2ms/step - loss: 1.4336\n",
            "Epoch 8/10\n",
            "1563/1563 [==============================] - 4s 2ms/step - loss: 1.4106\n",
            "Epoch 9/10\n",
            "1563/1563 [==============================] - 4s 2ms/step - loss: 1.3838\n",
            "Epoch 10/10\n",
            "1563/1563 [==============================] - 4s 2ms/step - loss: 1.3699\n"
          ],
          "name": "stdout"
        },
        {
          "output_type": "execute_result",
          "data": {
            "text/plain": [
              "<tensorflow.python.keras.callbacks.History at 0x7fa4d0087fd0>"
            ]
          },
          "metadata": {
            "tags": []
          },
          "execution_count": 9
        }
      ]
    },
    {
      "cell_type": "code",
      "metadata": {
        "id": "2jddW2k1RL3n",
        "colab_type": "code",
        "colab": {
          "base_uri": "https://localhost:8080/",
          "height": 408
        },
        "outputId": "ad08db86-98c6-4afa-f7ba-3faac0bf0875"
      },
      "source": [
        "from keras.layers import Input, Flatten, Dense # 3종류의 layer\n",
        "from keras.models import Model\n",
        "from keras.layers import BatchNormalization\n",
        "\n",
        "input_layer = Input( shape = (32, 32, 3)) # 배치 크기는 지정하지 않음. \n",
        "\n",
        "x = Flatten()(input_layer) # dense를 위해 펼친다 > 벡터의 길이 = 32*32*3 = 3072일 것임. \n",
        "\n",
        "x = Dense(units = 200, activation = 'relu')(x)\n",
        "x = BatchNormalization()(x)\n",
        "x = Dense(units = 150, activation = 'relu')(x)\n",
        "x = BatchNormalization()(x)\n",
        "\n",
        "output_layer = Dense(units = 10, activation = 'softmax')(x) # sortmax \n",
        "\n",
        "model = Model(input_layer, output_layer) # model = input, output으로 정의됨. \n",
        "model.summary()"
      ],
      "execution_count": null,
      "outputs": [
        {
          "output_type": "stream",
          "text": [
            "Model: \"functional_3\"\n",
            "_________________________________________________________________\n",
            "Layer (type)                 Output Shape              Param #   \n",
            "=================================================================\n",
            "input_3 (InputLayer)         [(None, 32, 32, 3)]       0         \n",
            "_________________________________________________________________\n",
            "flatten_2 (Flatten)          (None, 3072)              0         \n",
            "_________________________________________________________________\n",
            "dense_4 (Dense)              (None, 200)               614600    \n",
            "_________________________________________________________________\n",
            "batch_normalization (BatchNo (None, 200)               800       \n",
            "_________________________________________________________________\n",
            "dense_5 (Dense)              (None, 150)               30150     \n",
            "_________________________________________________________________\n",
            "batch_normalization_1 (Batch (None, 150)               600       \n",
            "_________________________________________________________________\n",
            "dense_6 (Dense)              (None, 10)                1510      \n",
            "=================================================================\n",
            "Total params: 647,660\n",
            "Trainable params: 646,960\n",
            "Non-trainable params: 700\n",
            "_________________________________________________________________\n"
          ],
          "name": "stdout"
        }
      ]
    },
    {
      "cell_type": "markdown",
      "metadata": {
        "id": "K_NnORexvFew",
        "colab_type": "text"
      },
      "source": [
        "# 2. Convolution"
      ]
    },
    {
      "cell_type": "code",
      "metadata": {
        "id": "MRKvo-LBRLz0",
        "colab_type": "code",
        "colab": {
          "base_uri": "https://localhost:8080/",
          "height": 337
        },
        "outputId": "fad0b9f8-8602-4b59-8f08-aae9bad804e1"
      },
      "source": [
        "from keras.layers import Conv2D\n",
        "input_layer = Input(shape = (32,32,3))\n",
        "\n",
        "conv1 = Conv2D(filters = 10, kernel_size = (4,4), strides = 2, padding = 'same')(input_layer)\n",
        "conv2 = Conv2D(filters = 20, kernel_size = (3,3), strides = 2, padding = 'same')(conv1)\n",
        "\n",
        "f = Flatten()(conv2)\n",
        "output_layer = Dense(units = 10, activation='softmax')(f)\n",
        "\n",
        "model = Model(input_layer, output_layer)\n",
        "model.summary()"
      ],
      "execution_count": null,
      "outputs": [
        {
          "output_type": "stream",
          "text": [
            "Model: \"functional_7\"\n",
            "_________________________________________________________________\n",
            "Layer (type)                 Output Shape              Param #   \n",
            "=================================================================\n",
            "input_8 (InputLayer)         [(None, 32, 32, 3)]       0         \n",
            "_________________________________________________________________\n",
            "conv2d_2 (Conv2D)            (None, 16, 16, 10)        490       \n",
            "_________________________________________________________________\n",
            "conv2d_3 (Conv2D)            (None, 8, 8, 20)          1820      \n",
            "_________________________________________________________________\n",
            "flatten_4 (Flatten)          (None, 1280)              0         \n",
            "_________________________________________________________________\n",
            "dense_8 (Dense)              (None, 10)                12810     \n",
            "=================================================================\n",
            "Total params: 15,120\n",
            "Trainable params: 15,120\n",
            "Non-trainable params: 0\n",
            "_________________________________________________________________\n"
          ],
          "name": "stdout"
        }
      ]
    }
  ]
}